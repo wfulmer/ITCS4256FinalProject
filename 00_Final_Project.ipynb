{
 "cells": [
  {
   "cell_type": "code",
   "execution_count": 1,
   "metadata": {},
   "outputs": [],
   "source": [
    "# To support both python 2 and python 3\n",
    "from __future__ import division, print_function, unicode_literals\n",
    "\n",
    "# Common imports\n",
    "import numpy as np\n",
    "import os\n",
    "import pandas as pd\n",
    "from sklearn.pipeline import Pipeline\n",
    "from sklearn.preprocessing import PolynomialFeatures\n",
    "from sklearn.preprocessing import StandardScaler\n",
    "from sklearn.svm import SVC\n",
    "\n",
    "# to make this notebook's output stable across runs\n",
    "np.random.seed(42)\n",
    "\n",
    "# To plot pretty figures\n",
    "%matplotlib inline\n",
    "import matplotlib\n",
    "import matplotlib.pyplot as plt\n",
    "plt.rcParams['axes.labelsize'] = 14\n",
    "plt.rcParams['xtick.labelsize'] = 12\n",
    "plt.rcParams['ytick.labelsize'] = 12\n",
    "\n",
    "# Where to save the figures\n",
    "PROJECT_ROOT_DIR = \".\"\n",
    "CHAPTER_ID = \"svm\"\n",
    "\n",
    "def save_fig(fig_id, tight_layout=True):\n",
    "    path = os.path.join(PROJECT_ROOT_DIR, \"images\", CHAPTER_ID, fig_id + \".png\")\n",
    "    print(\"Saving figure\", fig_id)\n",
    "    if tight_layout:\n",
    "        plt.tight_layout()\n",
    "    plt.savefig(path, format='png', dpi=300)"
   ]
  },
  {
   "cell_type": "code",
   "execution_count": 2,
   "metadata": {},
   "outputs": [],
   "source": [
    "kiva = pd.read_csv(\"C:/kiva_loans.csv\")\n",
    "mpi = pd.read_csv(\"C:/MPI_subnational.csv\")"
   ]
  },
  {
   "cell_type": "code",
   "execution_count": 3,
   "metadata": {},
   "outputs": [
    {
     "name": "stdout",
     "output_type": "stream",
     "text": [
      "<class 'pandas.core.frame.DataFrame'>\n",
      "RangeIndex: 671205 entries, 0 to 671204\n",
      "Data columns (total 20 columns):\n",
      "id                    671205 non-null int64\n",
      "funded_amount         671205 non-null float64\n",
      "loan_amount           671205 non-null float64\n",
      "activity              671205 non-null object\n",
      "sector                671205 non-null object\n",
      "use                   666977 non-null object\n",
      "country_code          671197 non-null object\n",
      "country               671205 non-null object\n",
      "region                614405 non-null object\n",
      "currency              671205 non-null object\n",
      "partner_id            657698 non-null float64\n",
      "posted_time           671205 non-null object\n",
      "disbursed_time        668809 non-null object\n",
      "funded_time           622874 non-null object\n",
      "term_in_months        671205 non-null float64\n",
      "lender_count          671205 non-null int64\n",
      "tags                  499789 non-null object\n",
      "borrower_genders      666984 non-null object\n",
      "repayment_interval    671205 non-null object\n",
      "date                  671205 non-null object\n",
      "dtypes: float64(4), int64(2), object(14)\n",
      "memory usage: 102.4+ MB\n"
     ]
    }
   ],
   "source": [
    "kiva.info()"
   ]
  },
  {
   "cell_type": "code",
   "execution_count": 4,
   "metadata": {},
   "outputs": [
    {
     "data": {
      "text/html": [
       "<div>\n",
       "<style>\n",
       "    .dataframe thead tr:only-child th {\n",
       "        text-align: right;\n",
       "    }\n",
       "\n",
       "    .dataframe thead th {\n",
       "        text-align: left;\n",
       "    }\n",
       "\n",
       "    .dataframe tbody tr th {\n",
       "        vertical-align: top;\n",
       "    }\n",
       "</style>\n",
       "<table border=\"1\" class=\"dataframe\">\n",
       "  <thead>\n",
       "    <tr style=\"text-align: right;\">\n",
       "      <th></th>\n",
       "      <th>id</th>\n",
       "      <th>funded_amount</th>\n",
       "      <th>loan_amount</th>\n",
       "      <th>partner_id</th>\n",
       "      <th>term_in_months</th>\n",
       "      <th>lender_count</th>\n",
       "    </tr>\n",
       "  </thead>\n",
       "  <tbody>\n",
       "    <tr>\n",
       "      <th>count</th>\n",
       "      <td>6.712050e+05</td>\n",
       "      <td>671205.000000</td>\n",
       "      <td>671205.000000</td>\n",
       "      <td>657698.000000</td>\n",
       "      <td>671205.000000</td>\n",
       "      <td>671205.000000</td>\n",
       "    </tr>\n",
       "    <tr>\n",
       "      <th>mean</th>\n",
       "      <td>9.932486e+05</td>\n",
       "      <td>785.995061</td>\n",
       "      <td>842.397107</td>\n",
       "      <td>178.199616</td>\n",
       "      <td>13.739022</td>\n",
       "      <td>20.590922</td>\n",
       "    </tr>\n",
       "    <tr>\n",
       "      <th>std</th>\n",
       "      <td>1.966113e+05</td>\n",
       "      <td>1130.398941</td>\n",
       "      <td>1198.660073</td>\n",
       "      <td>94.247581</td>\n",
       "      <td>8.598919</td>\n",
       "      <td>28.459551</td>\n",
       "    </tr>\n",
       "    <tr>\n",
       "      <th>min</th>\n",
       "      <td>6.530470e+05</td>\n",
       "      <td>0.000000</td>\n",
       "      <td>25.000000</td>\n",
       "      <td>9.000000</td>\n",
       "      <td>1.000000</td>\n",
       "      <td>0.000000</td>\n",
       "    </tr>\n",
       "    <tr>\n",
       "      <th>25%</th>\n",
       "      <td>8.230720e+05</td>\n",
       "      <td>250.000000</td>\n",
       "      <td>275.000000</td>\n",
       "      <td>126.000000</td>\n",
       "      <td>8.000000</td>\n",
       "      <td>7.000000</td>\n",
       "    </tr>\n",
       "    <tr>\n",
       "      <th>50%</th>\n",
       "      <td>9.927800e+05</td>\n",
       "      <td>450.000000</td>\n",
       "      <td>500.000000</td>\n",
       "      <td>145.000000</td>\n",
       "      <td>13.000000</td>\n",
       "      <td>13.000000</td>\n",
       "    </tr>\n",
       "    <tr>\n",
       "      <th>75%</th>\n",
       "      <td>1.163653e+06</td>\n",
       "      <td>900.000000</td>\n",
       "      <td>1000.000000</td>\n",
       "      <td>204.000000</td>\n",
       "      <td>14.000000</td>\n",
       "      <td>24.000000</td>\n",
       "    </tr>\n",
       "    <tr>\n",
       "      <th>max</th>\n",
       "      <td>1.340339e+06</td>\n",
       "      <td>100000.000000</td>\n",
       "      <td>100000.000000</td>\n",
       "      <td>536.000000</td>\n",
       "      <td>158.000000</td>\n",
       "      <td>2986.000000</td>\n",
       "    </tr>\n",
       "  </tbody>\n",
       "</table>\n",
       "</div>"
      ],
      "text/plain": [
       "                 id  funded_amount    loan_amount     partner_id  \\\n",
       "count  6.712050e+05  671205.000000  671205.000000  657698.000000   \n",
       "mean   9.932486e+05     785.995061     842.397107     178.199616   \n",
       "std    1.966113e+05    1130.398941    1198.660073      94.247581   \n",
       "min    6.530470e+05       0.000000      25.000000       9.000000   \n",
       "25%    8.230720e+05     250.000000     275.000000     126.000000   \n",
       "50%    9.927800e+05     450.000000     500.000000     145.000000   \n",
       "75%    1.163653e+06     900.000000    1000.000000     204.000000   \n",
       "max    1.340339e+06  100000.000000  100000.000000     536.000000   \n",
       "\n",
       "       term_in_months   lender_count  \n",
       "count   671205.000000  671205.000000  \n",
       "mean        13.739022      20.590922  \n",
       "std          8.598919      28.459551  \n",
       "min          1.000000       0.000000  \n",
       "25%          8.000000       7.000000  \n",
       "50%         13.000000      13.000000  \n",
       "75%         14.000000      24.000000  \n",
       "max        158.000000    2986.000000  "
      ]
     },
     "execution_count": 4,
     "metadata": {},
     "output_type": "execute_result"
    }
   ],
   "source": [
    "kiva.describe()"
   ]
  },
  {
   "cell_type": "code",
   "execution_count": 5,
   "metadata": {},
   "outputs": [
    {
     "name": "stdout",
     "output_type": "stream",
     "text": [
      "<class 'pandas.core.frame.DataFrame'>\n",
      "RangeIndex: 984 entries, 0 to 983\n",
      "Data columns (total 8 columns):\n",
      "ISO country code                     984 non-null object\n",
      "Country                              984 non-null object\n",
      "Sub-national region                  984 non-null object\n",
      "World region                         984 non-null object\n",
      "MPI National                         984 non-null float64\n",
      "MPI Regional                         984 non-null float64\n",
      "Headcount Ratio Regional             984 non-null float64\n",
      "Intensity of deprivation Regional    983 non-null float64\n",
      "dtypes: float64(4), object(4)\n",
      "memory usage: 61.6+ KB\n"
     ]
    }
   ],
   "source": [
    "mpi.info()"
   ]
  },
  {
   "cell_type": "code",
   "execution_count": 6,
   "metadata": {},
   "outputs": [],
   "source": [
    "mpi.rename(columns = {'Sub-national region':'region'}, inplace = True)"
   ]
  },
  {
   "cell_type": "code",
   "execution_count": 7,
   "metadata": {},
   "outputs": [],
   "source": [
    "combo = pd.merge(kiva,mpi)"
   ]
  },
  {
   "cell_type": "code",
   "execution_count": 8,
   "metadata": {},
   "outputs": [
    {
     "name": "stdout",
     "output_type": "stream",
     "text": [
      "<class 'pandas.core.frame.DataFrame'>\n",
      "Int64Index: 60158 entries, 0 to 60157\n",
      "Data columns (total 27 columns):\n",
      "id                                   60158 non-null int64\n",
      "funded_amount                        60158 non-null float64\n",
      "loan_amount                          60158 non-null float64\n",
      "activity                             60158 non-null object\n",
      "sector                               60158 non-null object\n",
      "use                                  60157 non-null object\n",
      "country_code                         60158 non-null object\n",
      "country                              60158 non-null object\n",
      "region                               60158 non-null object\n",
      "currency                             60158 non-null object\n",
      "partner_id                           60158 non-null float64\n",
      "posted_time                          60158 non-null object\n",
      "disbursed_time                       60158 non-null object\n",
      "funded_time                          55350 non-null object\n",
      "term_in_months                       60158 non-null float64\n",
      "lender_count                         60158 non-null int64\n",
      "tags                                 46454 non-null object\n",
      "borrower_genders                     60158 non-null object\n",
      "repayment_interval                   60158 non-null object\n",
      "date                                 60158 non-null object\n",
      "ISO country code                     60158 non-null object\n",
      "Country                              60158 non-null object\n",
      "World region                         60158 non-null object\n",
      "MPI National                         60158 non-null float64\n",
      "MPI Regional                         60158 non-null float64\n",
      "Headcount Ratio Regional             60158 non-null float64\n",
      "Intensity of deprivation Regional    60155 non-null float64\n",
      "dtypes: float64(8), int64(2), object(17)\n",
      "memory usage: 12.9+ MB\n"
     ]
    }
   ],
   "source": [
    "combo.info()"
   ]
  },
  {
   "cell_type": "code",
   "execution_count": 9,
   "metadata": {},
   "outputs": [],
   "source": [
    "#combo.to_csv(\"combo.csv\", sep=',')"
   ]
  },
  {
   "cell_type": "code",
   "execution_count": 10,
   "metadata": {},
   "outputs": [],
   "source": [
    "corr_matrix = combo.corr()"
   ]
  },
  {
   "cell_type": "code",
   "execution_count": 11,
   "metadata": {},
   "outputs": [
    {
     "data": {
      "text/plain": [
       "MPI Regional                         1.000000\n",
       "Headcount Ratio Regional             0.988552\n",
       "Intensity of deprivation Regional    0.920503\n",
       "MPI National                         0.803208\n",
       "partner_id                           0.373586\n",
       "id                                   0.077235\n",
       "term_in_months                       0.048235\n",
       "lender_count                        -0.169813\n",
       "funded_amount                       -0.194878\n",
       "loan_amount                         -0.197346\n",
       "Name: MPI Regional, dtype: float64"
      ]
     },
     "execution_count": 11,
     "metadata": {},
     "output_type": "execute_result"
    }
   ],
   "source": [
    "corr_matrix[\"MPI Regional\"].sort_values(ascending=False)"
   ]
  },
  {
   "cell_type": "code",
   "execution_count": 74,
   "metadata": {},
   "outputs": [
    {
     "data": {
      "text/plain": [
       "False"
      ]
     },
     "execution_count": 74,
     "metadata": {},
     "output_type": "execute_result"
    }
   ],
   "source": [
    "combo[\"funded_amount\"].equals(combo[\"loan_amount\"])"
   ]
  },
  {
   "cell_type": "code",
   "execution_count": 13,
   "metadata": {},
   "outputs": [],
   "source": [
    "combo = combo.drop([\"date\", \"posted_time\", \"disbursed_time\", \"term_in_months\", \"use\", \"country_code\", \"partner_id\", \"funded_time\",\n",
    "            \"currency\", \"lender_count\", \"tags\", \"date\", \"ISO country code\", \"Country\", \"id\",\"Intensity of deprivation Regional\" ], axis = 1)"
   ]
  },
  {
   "cell_type": "code",
   "execution_count": 14,
   "metadata": {},
   "outputs": [],
   "source": [
    "data = pd.get_dummies(combo, columns = [\"activity\", \"sector\", \"country\", \"region\", \"borrower_genders\", \"repayment_interval\", \"World region\"])"
   ]
  },
  {
   "cell_type": "code",
   "execution_count": 15,
   "metadata": {},
   "outputs": [
    {
     "name": "stdout",
     "output_type": "stream",
     "text": [
      "<class 'pandas.core.frame.DataFrame'>\n",
      "Int64Index: 60158 entries, 0 to 60157\n",
      "Columns: 1281 entries, funded_amount to World region_Sub-Saharan Africa\n",
      "dtypes: float64(5), uint8(1276)\n",
      "memory usage: 76.0 MB\n"
     ]
    }
   ],
   "source": [
    "data.info()"
   ]
  },
  {
   "cell_type": "code",
   "execution_count": 16,
   "metadata": {},
   "outputs": [
    {
     "data": {
      "text/html": [
       "<div>\n",
       "<style>\n",
       "    .dataframe thead tr:only-child th {\n",
       "        text-align: right;\n",
       "    }\n",
       "\n",
       "    .dataframe thead th {\n",
       "        text-align: left;\n",
       "    }\n",
       "\n",
       "    .dataframe tbody tr th {\n",
       "        vertical-align: top;\n",
       "    }\n",
       "</style>\n",
       "<table border=\"1\" class=\"dataframe\">\n",
       "  <thead>\n",
       "    <tr style=\"text-align: right;\">\n",
       "      <th></th>\n",
       "      <th>funded_amount</th>\n",
       "      <th>loan_amount</th>\n",
       "      <th>MPI National</th>\n",
       "      <th>MPI Regional</th>\n",
       "      <th>Headcount Ratio Regional</th>\n",
       "      <th>activity_Agriculture</th>\n",
       "      <th>activity_Air Conditioning</th>\n",
       "      <th>activity_Animal Sales</th>\n",
       "      <th>activity_Aquaculture</th>\n",
       "      <th>activity_Arts</th>\n",
       "      <th>...</th>\n",
       "      <th>borrower_genders_male, male, male, male, male, male, male, male, male, male, male</th>\n",
       "      <th>repayment_interval_bullet</th>\n",
       "      <th>repayment_interval_irregular</th>\n",
       "      <th>repayment_interval_monthly</th>\n",
       "      <th>World region_Arab States</th>\n",
       "      <th>World region_East Asia and the Pacific</th>\n",
       "      <th>World region_Europe and Central Asia</th>\n",
       "      <th>World region_Latin America and Caribbean</th>\n",
       "      <th>World region_South Asia</th>\n",
       "      <th>World region_Sub-Saharan Africa</th>\n",
       "    </tr>\n",
       "  </thead>\n",
       "  <tbody>\n",
       "    <tr>\n",
       "      <th>count</th>\n",
       "      <td>60158.000000</td>\n",
       "      <td>60158.000000</td>\n",
       "      <td>60158.000000</td>\n",
       "      <td>60158.000000</td>\n",
       "      <td>60158.000000</td>\n",
       "      <td>60158.000000</td>\n",
       "      <td>60158.000000</td>\n",
       "      <td>60158.000000</td>\n",
       "      <td>60158.000000</td>\n",
       "      <td>60158.000000</td>\n",
       "      <td>...</td>\n",
       "      <td>60158.000000</td>\n",
       "      <td>60158.000000</td>\n",
       "      <td>60158.000000</td>\n",
       "      <td>60158.000000</td>\n",
       "      <td>60158.000000</td>\n",
       "      <td>60158.000000</td>\n",
       "      <td>60158.000000</td>\n",
       "      <td>60158.000000</td>\n",
       "      <td>60158.000000</td>\n",
       "      <td>60158.000000</td>\n",
       "    </tr>\n",
       "    <tr>\n",
       "      <th>mean</th>\n",
       "      <td>827.266531</td>\n",
       "      <td>880.164733</td>\n",
       "      <td>0.150316</td>\n",
       "      <td>0.128607</td>\n",
       "      <td>26.471330</td>\n",
       "      <td>0.033661</td>\n",
       "      <td>0.000033</td>\n",
       "      <td>0.005585</td>\n",
       "      <td>0.000050</td>\n",
       "      <td>0.001313</td>\n",
       "      <td>...</td>\n",
       "      <td>0.000017</td>\n",
       "      <td>0.219971</td>\n",
       "      <td>0.157585</td>\n",
       "      <td>0.622444</td>\n",
       "      <td>0.012251</td>\n",
       "      <td>0.205908</td>\n",
       "      <td>0.023272</td>\n",
       "      <td>0.489262</td>\n",
       "      <td>0.000399</td>\n",
       "      <td>0.268909</td>\n",
       "    </tr>\n",
       "    <tr>\n",
       "      <th>std</th>\n",
       "      <td>1316.200651</td>\n",
       "      <td>1376.570210</td>\n",
       "      <td>0.114735</td>\n",
       "      <td>0.117477</td>\n",
       "      <td>20.568533</td>\n",
       "      <td>0.180357</td>\n",
       "      <td>0.005766</td>\n",
       "      <td>0.074526</td>\n",
       "      <td>0.007062</td>\n",
       "      <td>0.036215</td>\n",
       "      <td>...</td>\n",
       "      <td>0.004077</td>\n",
       "      <td>0.414230</td>\n",
       "      <td>0.364354</td>\n",
       "      <td>0.484780</td>\n",
       "      <td>0.110005</td>\n",
       "      <td>0.404367</td>\n",
       "      <td>0.150768</td>\n",
       "      <td>0.499889</td>\n",
       "      <td>0.019970</td>\n",
       "      <td>0.443396</td>\n",
       "    </tr>\n",
       "    <tr>\n",
       "      <th>min</th>\n",
       "      <td>0.000000</td>\n",
       "      <td>25.000000</td>\n",
       "      <td>0.006000</td>\n",
       "      <td>0.000000</td>\n",
       "      <td>0.000000</td>\n",
       "      <td>0.000000</td>\n",
       "      <td>0.000000</td>\n",
       "      <td>0.000000</td>\n",
       "      <td>0.000000</td>\n",
       "      <td>0.000000</td>\n",
       "      <td>...</td>\n",
       "      <td>0.000000</td>\n",
       "      <td>0.000000</td>\n",
       "      <td>0.000000</td>\n",
       "      <td>0.000000</td>\n",
       "      <td>0.000000</td>\n",
       "      <td>0.000000</td>\n",
       "      <td>0.000000</td>\n",
       "      <td>0.000000</td>\n",
       "      <td>0.000000</td>\n",
       "      <td>0.000000</td>\n",
       "    </tr>\n",
       "    <tr>\n",
       "      <th>25%</th>\n",
       "      <td>200.000000</td>\n",
       "      <td>200.000000</td>\n",
       "      <td>0.072000</td>\n",
       "      <td>0.030000</td>\n",
       "      <td>7.300000</td>\n",
       "      <td>0.000000</td>\n",
       "      <td>0.000000</td>\n",
       "      <td>0.000000</td>\n",
       "      <td>0.000000</td>\n",
       "      <td>0.000000</td>\n",
       "      <td>...</td>\n",
       "      <td>0.000000</td>\n",
       "      <td>0.000000</td>\n",
       "      <td>0.000000</td>\n",
       "      <td>0.000000</td>\n",
       "      <td>0.000000</td>\n",
       "      <td>0.000000</td>\n",
       "      <td>0.000000</td>\n",
       "      <td>0.000000</td>\n",
       "      <td>0.000000</td>\n",
       "      <td>0.000000</td>\n",
       "    </tr>\n",
       "    <tr>\n",
       "      <th>50%</th>\n",
       "      <td>525.000000</td>\n",
       "      <td>600.000000</td>\n",
       "      <td>0.113000</td>\n",
       "      <td>0.090000</td>\n",
       "      <td>20.900000</td>\n",
       "      <td>0.000000</td>\n",
       "      <td>0.000000</td>\n",
       "      <td>0.000000</td>\n",
       "      <td>0.000000</td>\n",
       "      <td>0.000000</td>\n",
       "      <td>...</td>\n",
       "      <td>0.000000</td>\n",
       "      <td>0.000000</td>\n",
       "      <td>0.000000</td>\n",
       "      <td>1.000000</td>\n",
       "      <td>0.000000</td>\n",
       "      <td>0.000000</td>\n",
       "      <td>0.000000</td>\n",
       "      <td>0.000000</td>\n",
       "      <td>0.000000</td>\n",
       "      <td>0.000000</td>\n",
       "    </tr>\n",
       "    <tr>\n",
       "      <th>75%</th>\n",
       "      <td>1000.000000</td>\n",
       "      <td>1043.750000</td>\n",
       "      <td>0.251000</td>\n",
       "      <td>0.183000</td>\n",
       "      <td>42.500000</td>\n",
       "      <td>0.000000</td>\n",
       "      <td>0.000000</td>\n",
       "      <td>0.000000</td>\n",
       "      <td>0.000000</td>\n",
       "      <td>0.000000</td>\n",
       "      <td>...</td>\n",
       "      <td>0.000000</td>\n",
       "      <td>0.000000</td>\n",
       "      <td>0.000000</td>\n",
       "      <td>1.000000</td>\n",
       "      <td>0.000000</td>\n",
       "      <td>0.000000</td>\n",
       "      <td>0.000000</td>\n",
       "      <td>1.000000</td>\n",
       "      <td>0.000000</td>\n",
       "      <td>1.000000</td>\n",
       "    </tr>\n",
       "    <tr>\n",
       "      <th>max</th>\n",
       "      <td>50000.000000</td>\n",
       "      <td>50000.000000</td>\n",
       "      <td>0.552000</td>\n",
       "      <td>0.744000</td>\n",
       "      <td>98.100000</td>\n",
       "      <td>1.000000</td>\n",
       "      <td>1.000000</td>\n",
       "      <td>1.000000</td>\n",
       "      <td>1.000000</td>\n",
       "      <td>1.000000</td>\n",
       "      <td>...</td>\n",
       "      <td>1.000000</td>\n",
       "      <td>1.000000</td>\n",
       "      <td>1.000000</td>\n",
       "      <td>1.000000</td>\n",
       "      <td>1.000000</td>\n",
       "      <td>1.000000</td>\n",
       "      <td>1.000000</td>\n",
       "      <td>1.000000</td>\n",
       "      <td>1.000000</td>\n",
       "      <td>1.000000</td>\n",
       "    </tr>\n",
       "  </tbody>\n",
       "</table>\n",
       "<p>8 rows × 1281 columns</p>\n",
       "</div>"
      ],
      "text/plain": [
       "       funded_amount   loan_amount  MPI National  MPI Regional  \\\n",
       "count   60158.000000  60158.000000  60158.000000  60158.000000   \n",
       "mean      827.266531    880.164733      0.150316      0.128607   \n",
       "std      1316.200651   1376.570210      0.114735      0.117477   \n",
       "min         0.000000     25.000000      0.006000      0.000000   \n",
       "25%       200.000000    200.000000      0.072000      0.030000   \n",
       "50%       525.000000    600.000000      0.113000      0.090000   \n",
       "75%      1000.000000   1043.750000      0.251000      0.183000   \n",
       "max     50000.000000  50000.000000      0.552000      0.744000   \n",
       "\n",
       "       Headcount Ratio Regional  activity_Agriculture  \\\n",
       "count              60158.000000          60158.000000   \n",
       "mean                  26.471330              0.033661   \n",
       "std                   20.568533              0.180357   \n",
       "min                    0.000000              0.000000   \n",
       "25%                    7.300000              0.000000   \n",
       "50%                   20.900000              0.000000   \n",
       "75%                   42.500000              0.000000   \n",
       "max                   98.100000              1.000000   \n",
       "\n",
       "       activity_Air Conditioning  activity_Animal Sales  activity_Aquaculture  \\\n",
       "count               60158.000000           60158.000000          60158.000000   \n",
       "mean                    0.000033               0.005585              0.000050   \n",
       "std                     0.005766               0.074526              0.007062   \n",
       "min                     0.000000               0.000000              0.000000   \n",
       "25%                     0.000000               0.000000              0.000000   \n",
       "50%                     0.000000               0.000000              0.000000   \n",
       "75%                     0.000000               0.000000              0.000000   \n",
       "max                     1.000000               1.000000              1.000000   \n",
       "\n",
       "       activity_Arts               ...                 \\\n",
       "count   60158.000000               ...                  \n",
       "mean        0.001313               ...                  \n",
       "std         0.036215               ...                  \n",
       "min         0.000000               ...                  \n",
       "25%         0.000000               ...                  \n",
       "50%         0.000000               ...                  \n",
       "75%         0.000000               ...                  \n",
       "max         1.000000               ...                  \n",
       "\n",
       "       borrower_genders_male, male, male, male, male, male, male, male, male, male, male  \\\n",
       "count                                       60158.000000                                   \n",
       "mean                                            0.000017                                   \n",
       "std                                             0.004077                                   \n",
       "min                                             0.000000                                   \n",
       "25%                                             0.000000                                   \n",
       "50%                                             0.000000                                   \n",
       "75%                                             0.000000                                   \n",
       "max                                             1.000000                                   \n",
       "\n",
       "       repayment_interval_bullet  repayment_interval_irregular  \\\n",
       "count               60158.000000                  60158.000000   \n",
       "mean                    0.219971                      0.157585   \n",
       "std                     0.414230                      0.364354   \n",
       "min                     0.000000                      0.000000   \n",
       "25%                     0.000000                      0.000000   \n",
       "50%                     0.000000                      0.000000   \n",
       "75%                     0.000000                      0.000000   \n",
       "max                     1.000000                      1.000000   \n",
       "\n",
       "       repayment_interval_monthly  World region_Arab States  \\\n",
       "count                60158.000000              60158.000000   \n",
       "mean                     0.622444                  0.012251   \n",
       "std                      0.484780                  0.110005   \n",
       "min                      0.000000                  0.000000   \n",
       "25%                      0.000000                  0.000000   \n",
       "50%                      1.000000                  0.000000   \n",
       "75%                      1.000000                  0.000000   \n",
       "max                      1.000000                  1.000000   \n",
       "\n",
       "       World region_East Asia and the Pacific  \\\n",
       "count                            60158.000000   \n",
       "mean                                 0.205908   \n",
       "std                                  0.404367   \n",
       "min                                  0.000000   \n",
       "25%                                  0.000000   \n",
       "50%                                  0.000000   \n",
       "75%                                  0.000000   \n",
       "max                                  1.000000   \n",
       "\n",
       "       World region_Europe and Central Asia  \\\n",
       "count                          60158.000000   \n",
       "mean                               0.023272   \n",
       "std                                0.150768   \n",
       "min                                0.000000   \n",
       "25%                                0.000000   \n",
       "50%                                0.000000   \n",
       "75%                                0.000000   \n",
       "max                                1.000000   \n",
       "\n",
       "       World region_Latin America and Caribbean  World region_South Asia  \\\n",
       "count                              60158.000000             60158.000000   \n",
       "mean                                   0.489262                 0.000399   \n",
       "std                                    0.499889                 0.019970   \n",
       "min                                    0.000000                 0.000000   \n",
       "25%                                    0.000000                 0.000000   \n",
       "50%                                    0.000000                 0.000000   \n",
       "75%                                    1.000000                 0.000000   \n",
       "max                                    1.000000                 1.000000   \n",
       "\n",
       "       World region_Sub-Saharan Africa  \n",
       "count                     60158.000000  \n",
       "mean                          0.268909  \n",
       "std                           0.443396  \n",
       "min                           0.000000  \n",
       "25%                           0.000000  \n",
       "50%                           0.000000  \n",
       "75%                           1.000000  \n",
       "max                           1.000000  \n",
       "\n",
       "[8 rows x 1281 columns]"
      ]
     },
     "execution_count": 16,
     "metadata": {},
     "output_type": "execute_result"
    }
   ],
   "source": [
    "data.describe()"
   ]
  },
  {
   "cell_type": "markdown",
   "metadata": {},
   "source": [
    "## Shows the different values within MPI Regional "
   ]
  },
  {
   "cell_type": "code",
   "execution_count": 17,
   "metadata": {},
   "outputs": [
    {
     "data": {
      "text/plain": [
       "0.311    10000\n",
       "0.030     4907\n",
       "0.062     4067\n",
       "0.021     3802\n",
       "0.090     2383\n",
       "0.121     2225\n",
       "0.076     2149\n",
       "0.107     2048\n",
       "0.077     2048\n",
       "0.120     1853\n",
       "0.017     1729\n",
       "0.182     1532\n",
       "0.020     1338\n",
       "0.031     1325\n",
       "0.160     1146\n",
       "0.026     1121\n",
       "0.106     1073\n",
       "0.043     1067\n",
       "0.204      999\n",
       "0.038      776\n",
       "0.099      732\n",
       "0.221      719\n",
       "0.047      655\n",
       "0.009      576\n",
       "0.035      572\n",
       "0.105      544\n",
       "0.006      521\n",
       "0.048      443\n",
       "0.130      411\n",
       "0.193      404\n",
       "         ...  \n",
       "0.100       11\n",
       "0.195        9\n",
       "0.050        7\n",
       "0.243        6\n",
       "0.373        6\n",
       "0.431        6\n",
       "0.161        5\n",
       "0.322        5\n",
       "0.010        4\n",
       "0.093        4\n",
       "0.301        4\n",
       "0.007        4\n",
       "0.000        3\n",
       "0.089        3\n",
       "0.293        3\n",
       "0.051        3\n",
       "0.134        2\n",
       "0.086        2\n",
       "0.087        1\n",
       "0.025        1\n",
       "0.124        1\n",
       "0.013        1\n",
       "0.332        1\n",
       "0.005        1\n",
       "0.003        1\n",
       "0.041        1\n",
       "0.016        1\n",
       "0.171        1\n",
       "0.075        1\n",
       "0.123        1\n",
       "Name: MPI Regional, Length: 117, dtype: int64"
      ]
     },
     "execution_count": 17,
     "metadata": {},
     "output_type": "execute_result"
    }
   ],
   "source": [
    "mpi_info = data['MPI Regional']\n",
    "mpi_info.value_counts()"
   ]
  },
  {
   "cell_type": "code",
   "execution_count": 18,
   "metadata": {},
   "outputs": [
    {
     "data": {
      "text/plain": [
       "LabelEncoder()"
      ]
     },
     "execution_count": 18,
     "metadata": {},
     "output_type": "execute_result"
    }
   ],
   "source": [
    "from sklearn import preprocessing\n",
    "le = preprocessing.LabelEncoder()\n",
    "le.fit(data[\"MPI Regional\"])"
   ]
  },
  {
   "cell_type": "code",
   "execution_count": 19,
   "metadata": {},
   "outputs": [
    {
     "data": {
      "text/plain": [
       "array([ 0.   ,  0.003,  0.004,  0.005,  0.006,  0.007,  0.008,  0.009,\n",
       "        0.01 ,  0.011,  0.012,  0.013,  0.014,  0.016,  0.017,  0.02 ,\n",
       "        0.021,  0.024,  0.025,  0.026,  0.027,  0.03 ,  0.031,  0.035,\n",
       "        0.036,  0.038,  0.041,  0.042,  0.043,  0.046,  0.047,  0.048,\n",
       "        0.05 ,  0.051,  0.062,  0.065,  0.067,  0.069,  0.071,  0.073,\n",
       "        0.075,  0.076,  0.077,  0.081,  0.082,  0.086,  0.087,  0.089,\n",
       "        0.09 ,  0.093,  0.094,  0.099,  0.1  ,  0.103,  0.105,  0.106,\n",
       "        0.107,  0.108,  0.112,  0.113,  0.114,  0.12 ,  0.121,  0.123,\n",
       "        0.124,  0.127,  0.13 ,  0.134,  0.145,  0.16 ,  0.161,  0.168,\n",
       "        0.171,  0.174,  0.182,  0.183,  0.184,  0.187,  0.193,  0.195,\n",
       "        0.2  ,  0.204,  0.205,  0.207,  0.211,  0.215,  0.221,  0.243,\n",
       "        0.244,  0.254,  0.259,  0.267,  0.283,  0.292,  0.293,  0.301,\n",
       "        0.302,  0.306,  0.311,  0.314,  0.316,  0.322,  0.325,  0.332,\n",
       "        0.334,  0.357,  0.373,  0.379,  0.388,  0.41 ,  0.431,  0.449,\n",
       "        0.477,  0.484,  0.497,  0.522,  0.744])"
      ]
     },
     "execution_count": 19,
     "metadata": {},
     "output_type": "execute_result"
    }
   ],
   "source": [
    "le.classes_"
   ]
  },
  {
   "cell_type": "code",
   "execution_count": 20,
   "metadata": {},
   "outputs": [],
   "source": [
    "data[\"MPI Regional\"] = le.transform(data[\"MPI Regional\"])"
   ]
  },
  {
   "cell_type": "code",
   "execution_count": 21,
   "metadata": {},
   "outputs": [
    {
     "data": {
      "text/plain": [
       "0        22\n",
       "1        22\n",
       "2        22\n",
       "3        22\n",
       "4        22\n",
       "5        22\n",
       "6        22\n",
       "7        22\n",
       "8        22\n",
       "9        22\n",
       "10       22\n",
       "11       22\n",
       "12       22\n",
       "13       22\n",
       "14       22\n",
       "15       22\n",
       "16       22\n",
       "17       22\n",
       "18       22\n",
       "19       22\n",
       "20       22\n",
       "21       22\n",
       "22       22\n",
       "23       22\n",
       "24       22\n",
       "25       22\n",
       "26       22\n",
       "27       22\n",
       "28       22\n",
       "29       22\n",
       "         ..\n",
       "60128    84\n",
       "60129    84\n",
       "60130    84\n",
       "60131    84\n",
       "60132    84\n",
       "60133    84\n",
       "60134    84\n",
       "60135    84\n",
       "60136    84\n",
       "60137    84\n",
       "60138    84\n",
       "60139    84\n",
       "60140    84\n",
       "60141    84\n",
       "60142    84\n",
       "60143    84\n",
       "60144    84\n",
       "60145    84\n",
       "60146    84\n",
       "60147    84\n",
       "60148    84\n",
       "60149    84\n",
       "60150    84\n",
       "60151    84\n",
       "60152    95\n",
       "60153    95\n",
       "60154    95\n",
       "60155    95\n",
       "60156     6\n",
       "60157    13\n",
       "Name: MPI Regional, Length: 60158, dtype: int64"
      ]
     },
     "execution_count": 21,
     "metadata": {},
     "output_type": "execute_result"
    }
   ],
   "source": [
    "data[\"MPI Regional\"]"
   ]
  },
  {
   "cell_type": "markdown",
   "metadata": {},
   "source": [
    "### Converting floats to ints"
   ]
  },
  {
   "cell_type": "code",
   "execution_count": 22,
   "metadata": {},
   "outputs": [],
   "source": [
    "data['funded_amount'] = data[\"funded_amount\"].astype(int)\n",
    "data['loan_amount'] = data['loan_amount'].astype(int)\n",
    "#data['MPI National'] = data['MPI National'].astype(int)\n",
    "#data['MPI Regional'] = data['MPI Regional'].astype(int)\n",
    "data['Headcount Ratio Regional'] = data['Headcount Ratio Regional'].astype(int)\n",
    "#data['Intensity of deprivation Regional'] = data['Intensity of deprivation Regional'].astype(int)"
   ]
  },
  {
   "cell_type": "code",
   "execution_count": 75,
   "metadata": {},
   "outputs": [
    {
     "data": {
      "text/html": [
       "<div>\n",
       "<style>\n",
       "    .dataframe thead tr:only-child th {\n",
       "        text-align: right;\n",
       "    }\n",
       "\n",
       "    .dataframe thead th {\n",
       "        text-align: left;\n",
       "    }\n",
       "\n",
       "    .dataframe tbody tr th {\n",
       "        vertical-align: top;\n",
       "    }\n",
       "</style>\n",
       "<table border=\"1\" class=\"dataframe\">\n",
       "  <thead>\n",
       "    <tr style=\"text-align: right;\">\n",
       "      <th></th>\n",
       "      <th>funded_amount</th>\n",
       "      <th>loan_amount</th>\n",
       "      <th>MPI National</th>\n",
       "      <th>MPI Regional</th>\n",
       "      <th>Headcount Ratio Regional</th>\n",
       "      <th>activity_Agriculture</th>\n",
       "      <th>activity_Air Conditioning</th>\n",
       "      <th>activity_Animal Sales</th>\n",
       "      <th>activity_Aquaculture</th>\n",
       "      <th>activity_Arts</th>\n",
       "      <th>...</th>\n",
       "      <th>borrower_genders_male, male, male, male, male, male, male, male, male, male, male</th>\n",
       "      <th>repayment_interval_bullet</th>\n",
       "      <th>repayment_interval_irregular</th>\n",
       "      <th>repayment_interval_monthly</th>\n",
       "      <th>World region_Arab States</th>\n",
       "      <th>World region_East Asia and the Pacific</th>\n",
       "      <th>World region_Europe and Central Asia</th>\n",
       "      <th>World region_Latin America and Caribbean</th>\n",
       "      <th>World region_South Asia</th>\n",
       "      <th>World region_Sub-Saharan Africa</th>\n",
       "    </tr>\n",
       "  </thead>\n",
       "  <tbody>\n",
       "  </tbody>\n",
       "</table>\n",
       "<p>0 rows × 1281 columns</p>\n",
       "</div>"
      ],
      "text/plain": [
       "Empty DataFrame\n",
       "Columns: [funded_amount, loan_amount, MPI National, MPI Regional, Headcount Ratio Regional, activity_Agriculture, activity_Air Conditioning, activity_Animal Sales, activity_Aquaculture, activity_Arts, activity_Auto Repair, activity_Bakery, activity_Barber Shop, activity_Beauty Salon, activity_Beekeeping, activity_Beverages, activity_Bicycle Repair, activity_Blacksmith, activity_Bookbinding, activity_Bookstore, activity_Bricks, activity_Butcher Shop, activity_Cafe, activity_Call Center, activity_Carpentry, activity_Catering, activity_Cattle, activity_Celebrations, activity_Cement, activity_Cereals, activity_Charcoal Sales, activity_Cheese Making, activity_Child Care, activity_Cleaning Services, activity_Cloth & Dressmaking Supplies, activity_Clothing, activity_Clothing Sales, activity_Cobbler, activity_Communications, activity_Computer, activity_Computers, activity_Construction, activity_Construction Supplies, activity_Consumer Goods, activity_Cosmetics Sales, activity_Crafts, activity_Dairy, activity_Decorations Sales, activity_Dental, activity_Education provider, activity_Electrical Goods, activity_Electrician, activity_Electronics Repair, activity_Electronics Sales, activity_Embroidery, activity_Energy, activity_Entertainment, activity_Farm Supplies, activity_Farming, activity_Film, activity_Fish Selling, activity_Fishing, activity_Florist, activity_Flowers, activity_Food, activity_Food Market, activity_Food Production/Sales, activity_Food Stall, activity_Fruits & Vegetables, activity_Fuel/Firewood, activity_Funerals, activity_Furniture Making, activity_Games, activity_General Store, activity_Goods Distribution, activity_Grocery Store, activity_Hardware, activity_Health, activity_Higher education costs, activity_Home Appliances, activity_Home Energy, activity_Home Products Sales, activity_Hotel, activity_Internet Cafe, activity_Jewelry, activity_Knitting, activity_Land Rental, activity_Laundry, activity_Liquor Store / Off-License, activity_Livestock, activity_Machinery Rental, activity_Manufacturing, activity_Medical Clinic, activity_Metal Shop, activity_Milk Sales, activity_Mobile Phones, activity_Mobile Transactions, activity_Motorcycle Repair, activity_Motorcycle Transport, activity_Movie Tapes & DVDs, ...]\n",
       "Index: []\n",
       "\n",
       "[0 rows x 1281 columns]"
      ]
     },
     "execution_count": 75,
     "metadata": {},
     "output_type": "execute_result"
    }
   ],
   "source": [
    "sample_incomplete_rows = data[data.isnull().any(axis=1)]\n",
    "sample_incomplete_rows"
   ]
  },
  {
   "cell_type": "code",
   "execution_count": 23,
   "metadata": {},
   "outputs": [
    {
     "name": "stdout",
     "output_type": "stream",
     "text": [
      "<class 'pandas.core.frame.DataFrame'>\n",
      "Int64Index: 60158 entries, 0 to 60157\n",
      "Columns: 1281 entries, funded_amount to World region_Sub-Saharan Africa\n",
      "dtypes: float64(1), int32(3), int64(1), uint8(1276)\n",
      "memory usage: 77.8 MB\n"
     ]
    }
   ],
   "source": [
    "data.info()"
   ]
  },
  {
   "cell_type": "markdown",
   "metadata": {},
   "source": [
    "### Train Test Split"
   ]
  },
  {
   "cell_type": "code",
   "execution_count": 49,
   "metadata": {},
   "outputs": [],
   "source": [
    "from sklearn.model_selection import train_test_split\n",
    "train_set, test_set = train_test_split(data, test_size=.5, random_state = 42)"
   ]
  },
  {
   "cell_type": "code",
   "execution_count": 50,
   "metadata": {},
   "outputs": [],
   "source": [
    "train_x = train_set.drop(\"MPI Regional\", axis = 1)\n",
    "train_y = train_set[\"MPI Regional\"]"
   ]
  },
  {
   "cell_type": "code",
   "execution_count": 28,
   "metadata": {},
   "outputs": [],
   "source": [
    "test_x = test_set.drop(\"MPI Regional\", axis = 1)\n",
    "test_y = test_set[\"MPI Regional\"]"
   ]
  },
  {
   "cell_type": "code",
   "execution_count": 26,
   "metadata": {},
   "outputs": [
    {
     "data": {
      "text/plain": [
       "(30079,)"
      ]
     },
     "execution_count": 26,
     "metadata": {},
     "output_type": "execute_result"
    }
   ],
   "source": [
    "train_y.shape"
   ]
  },
  {
   "cell_type": "code",
   "execution_count": 27,
   "metadata": {},
   "outputs": [
    {
     "data": {
      "text/plain": [
       "98     5000\n",
       "21     2422\n",
       "34     1992\n",
       "16     1939\n",
       "48     1173\n",
       "62     1111\n",
       "41     1059\n",
       "42     1031\n",
       "56     1028\n",
       "61      931\n",
       "14      890\n",
       "74      747\n",
       "15      669\n",
       "22      649\n",
       "69      601\n",
       "19      563\n",
       "55      531\n",
       "28      528\n",
       "81      510\n",
       "25      403\n",
       "51      357\n",
       "86      344\n",
       "30      327\n",
       "23      305\n",
       "54      296\n",
       "7       277\n",
       "4       267\n",
       "31      215\n",
       "66      212\n",
       "78      211\n",
       "       ... \n",
       "97       14\n",
       "9        11\n",
       "76       10\n",
       "39        9\n",
       "104       9\n",
       "88        8\n",
       "52        8\n",
       "108       7\n",
       "90        7\n",
       "79        5\n",
       "87        4\n",
       "32        3\n",
       "95        3\n",
       "70        2\n",
       "67        2\n",
       "8         2\n",
       "5         2\n",
       "110       2\n",
       "106       2\n",
       "49        2\n",
       "33        2\n",
       "26        1\n",
       "63        1\n",
       "3         1\n",
       "101       1\n",
       "94        1\n",
       "46        1\n",
       "72        1\n",
       "13        1\n",
       "0         1\n",
       "Name: MPI Regional, Length: 109, dtype: int64"
      ]
     },
     "execution_count": 27,
     "metadata": {},
     "output_type": "execute_result"
    }
   ],
   "source": [
    "train_y.value_counts()"
   ]
  },
  {
   "cell_type": "markdown",
   "metadata": {},
   "source": [
    "## Random Forest Classifier"
   ]
  },
  {
   "cell_type": "code",
   "execution_count": 73,
   "metadata": {},
   "outputs": [],
   "source": [
    "# from sklearn.model_selection import GridSearchCV#'n_estimators': [3, 10], 'max_features': [2, 3, 4]},\n",
    "# param_grid = [\n",
    "# {'n_estimators': [400, 500, 600], 'max_features': [4, 6, 8]},\n",
    "# ]\n",
    "# forest_cla = RandomForestClassifier(random_state=42)\n",
    "# grid_search = GridSearchCV(forest_cla, param_grid, cv=5)#scoring='neg_mean_squared_error'\n",
    "# grid_search.fit(train_x,train_y )\n",
    "# print (grid_search.best_params_)"
   ]
  },
  {
   "cell_type": "code",
   "execution_count": 66,
   "metadata": {},
   "outputs": [
    {
     "data": {
      "text/plain": [
       "RandomForestClassifier(bootstrap=True, class_weight='balanced',\n",
       "            criterion='gini', max_depth=None, max_features=2,\n",
       "            max_leaf_nodes=16, min_impurity_decrease=0.0,\n",
       "            min_impurity_split=None, min_samples_leaf=1,\n",
       "            min_samples_split=2, min_weight_fraction_leaf=0.0,\n",
       "            n_estimators=500, n_jobs=-1, oob_score=False, random_state=42,\n",
       "            verbose=0, warm_start=False)"
      ]
     },
     "execution_count": 66,
     "metadata": {},
     "output_type": "execute_result"
    }
   ],
   "source": [
    "rnd_clf = RandomForestClassifier(n_estimators=500, max_features=2, max_leaf_nodes=16, n_jobs=-1, class_weight = 'balanced', random_state = 42)\n",
    "rnd_clf.fit(train_x,train_y)"
   ]
  },
  {
   "cell_type": "code",
   "execution_count": 67,
   "metadata": {},
   "outputs": [
    {
     "name": "stderr",
     "output_type": "stream",
     "text": [
      "C:\\Anaconda3\\lib\\site-packages\\sklearn\\model_selection\\_split.py:605: Warning: The least populated class in y has only 1 members, which is too few. The minimum number of members in any class cannot be less than n_splits=3.\n",
      "  % (min_groups, self.n_splits)), Warning)\n"
     ]
    }
   ],
   "source": [
    "from sklearn.model_selection import cross_val_predict\n",
    "y_train_pred = cross_val_predict(rnd_clf, train_x, train_y, cv=3)"
   ]
  },
  {
   "cell_type": "code",
   "execution_count": 68,
   "metadata": {},
   "outputs": [],
   "source": [
    "from sklearn.metrics import precision_score, recall_score"
   ]
  },
  {
   "cell_type": "code",
   "execution_count": 69,
   "metadata": {},
   "outputs": [
    {
     "name": "stderr",
     "output_type": "stream",
     "text": [
      "C:\\Anaconda3\\lib\\site-packages\\sklearn\\metrics\\classification.py:1135: UndefinedMetricWarning: Precision is ill-defined and being set to 0.0 in labels with no predicted samples.\n",
      "  'precision', 'predicted', average, warn_for)\n"
     ]
    },
    {
     "data": {
      "text/plain": [
       "0.95870355160190801"
      ]
     },
     "execution_count": 69,
     "metadata": {},
     "output_type": "execute_result"
    }
   ],
   "source": [
    "precision_score(train_y, y_train_pred, average = 'weighted')"
   ]
  },
  {
   "cell_type": "code",
   "execution_count": 70,
   "metadata": {},
   "outputs": [
    {
     "data": {
      "text/plain": [
       "0.94105522125070651"
      ]
     },
     "execution_count": 70,
     "metadata": {},
     "output_type": "execute_result"
    }
   ],
   "source": [
    "recall_score(train_y,y_train_pred, average = 'weighted')"
   ]
  },
  {
   "cell_type": "code",
   "execution_count": 71,
   "metadata": {},
   "outputs": [
    {
     "name": "stderr",
     "output_type": "stream",
     "text": [
      "C:\\Anaconda3\\lib\\site-packages\\sklearn\\model_selection\\_split.py:605: Warning: The least populated class in y has only 1 members, which is too few. The minimum number of members in any class cannot be less than n_splits=3.\n",
      "  % (min_groups, self.n_splits)), Warning)\n",
      "C:\\Anaconda3\\lib\\site-packages\\sklearn\\metrics\\classification.py:1135: UndefinedMetricWarning: Precision is ill-defined and being set to 0.0 in labels with no predicted samples.\n",
      "  'precision', 'predicted', average, warn_for)\n"
     ]
    },
    {
     "data": {
      "text/plain": [
       "0.95282330210269284"
      ]
     },
     "execution_count": 71,
     "metadata": {},
     "output_type": "execute_result"
    }
   ],
   "source": [
    "y_test_pred = cross_val_predict(rnd_clf, test_x, test_y, cv=3)\n",
    "precision_score(test_y, y_test_pred, average = 'weighted')"
   ]
  },
  {
   "cell_type": "code",
   "execution_count": 72,
   "metadata": {},
   "outputs": [
    {
     "data": {
      "text/plain": [
       "0.93118122278001259"
      ]
     },
     "execution_count": 72,
     "metadata": {},
     "output_type": "execute_result"
    }
   ],
   "source": [
    "recall_score(test_y,y_test_pred, average = 'weighted')"
   ]
  }
 ],
 "metadata": {
  "kernelspec": {
   "display_name": "Python 3",
   "language": "python",
   "name": "python3"
  },
  "language_info": {
   "codemirror_mode": {
    "name": "ipython",
    "version": 3
   },
   "file_extension": ".py",
   "mimetype": "text/x-python",
   "name": "python",
   "nbconvert_exporter": "python",
   "pygments_lexer": "ipython3",
   "version": "3.6.3"
  }
 },
 "nbformat": 4,
 "nbformat_minor": 2
}

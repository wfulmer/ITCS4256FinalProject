{
 "cells": [
  {
   "cell_type": "code",
   "execution_count": 1,
   "metadata": {
    "collapsed": true
   },
   "outputs": [],
   "source": [
    "# To support both python 2 and python 3\n",
    "from __future__ import division, print_function, unicode_literals\n",
    "\n",
    "# Common imports\n",
    "import numpy as np\n",
    "import os\n",
    "import pandas as pd\n",
    "from sklearn.pipeline import Pipeline\n",
    "from sklearn.preprocessing import PolynomialFeatures\n",
    "from sklearn.preprocessing import StandardScaler\n",
    "from sklearn.svm import SVC\n",
    "\n",
    "# to make this notebook's output stable across runs\n",
    "np.random.seed(42)\n",
    "\n",
    "# To plot pretty figures\n",
    "%matplotlib inline\n",
    "import matplotlib\n",
    "import matplotlib.pyplot as plt\n",
    "plt.rcParams['axes.labelsize'] = 14\n",
    "plt.rcParams['xtick.labelsize'] = 12\n",
    "plt.rcParams['ytick.labelsize'] = 12\n",
    "\n",
    "# Where to save the figures\n",
    "PROJECT_ROOT_DIR = \".\"\n",
    "CHAPTER_ID = \"svm\"\n",
    "\n",
    "def save_fig(fig_id, tight_layout=True):\n",
    "    path = os.path.join(PROJECT_ROOT_DIR, \"images\", CHAPTER_ID, fig_id + \".png\")\n",
    "    print(\"Saving figure\", fig_id)\n",
    "    if tight_layout:\n",
    "        plt.tight_layout()\n",
    "    plt.savefig(path, format='png', dpi=300)"
   ]
  },
  {
   "cell_type": "code",
   "execution_count": 2,
   "metadata": {
    "collapsed": true
   },
   "outputs": [],
   "source": [
    "kiva = pd.read_csv(\"C:/FinalProject/kiva_loans.csv\")\n",
    "mpi = pd.read_csv(\"C:/FinalProject/MPI_subnational.csv\")"
   ]
  },
  {
   "cell_type": "code",
   "execution_count": 3,
   "metadata": {},
   "outputs": [
    {
     "name": "stdout",
     "output_type": "stream",
     "text": [
      "<class 'pandas.core.frame.DataFrame'>\n",
      "RangeIndex: 671205 entries, 0 to 671204\n",
      "Data columns (total 20 columns):\n",
      "id                    671205 non-null int64\n",
      "funded_amount         671205 non-null float64\n",
      "loan_amount           671205 non-null float64\n",
      "activity              671205 non-null object\n",
      "sector                671205 non-null object\n",
      "use                   666977 non-null object\n",
      "country_code          671197 non-null object\n",
      "country               671205 non-null object\n",
      "region                614405 non-null object\n",
      "currency              671205 non-null object\n",
      "partner_id            657698 non-null float64\n",
      "posted_time           671205 non-null object\n",
      "disbursed_time        668809 non-null object\n",
      "funded_time           622874 non-null object\n",
      "term_in_months        671205 non-null float64\n",
      "lender_count          671205 non-null int64\n",
      "tags                  499789 non-null object\n",
      "borrower_genders      666984 non-null object\n",
      "repayment_interval    671205 non-null object\n",
      "date                  671205 non-null object\n",
      "dtypes: float64(4), int64(2), object(14)\n",
      "memory usage: 102.4+ MB\n"
     ]
    }
   ],
   "source": [
    "kiva.info()"
   ]
  },
  {
   "cell_type": "code",
   "execution_count": 4,
   "metadata": {},
   "outputs": [
    {
     "data": {
      "text/html": [
       "<div>\n",
       "<style>\n",
       "    .dataframe thead tr:only-child th {\n",
       "        text-align: right;\n",
       "    }\n",
       "\n",
       "    .dataframe thead th {\n",
       "        text-align: left;\n",
       "    }\n",
       "\n",
       "    .dataframe tbody tr th {\n",
       "        vertical-align: top;\n",
       "    }\n",
       "</style>\n",
       "<table border=\"1\" class=\"dataframe\">\n",
       "  <thead>\n",
       "    <tr style=\"text-align: right;\">\n",
       "      <th></th>\n",
       "      <th>id</th>\n",
       "      <th>funded_amount</th>\n",
       "      <th>loan_amount</th>\n",
       "      <th>partner_id</th>\n",
       "      <th>term_in_months</th>\n",
       "      <th>lender_count</th>\n",
       "    </tr>\n",
       "  </thead>\n",
       "  <tbody>\n",
       "    <tr>\n",
       "      <th>count</th>\n",
       "      <td>6.712050e+05</td>\n",
       "      <td>671205.000000</td>\n",
       "      <td>671205.000000</td>\n",
       "      <td>657698.000000</td>\n",
       "      <td>671205.000000</td>\n",
       "      <td>671205.000000</td>\n",
       "    </tr>\n",
       "    <tr>\n",
       "      <th>mean</th>\n",
       "      <td>9.932486e+05</td>\n",
       "      <td>785.995061</td>\n",
       "      <td>842.397107</td>\n",
       "      <td>178.199616</td>\n",
       "      <td>13.739022</td>\n",
       "      <td>20.590922</td>\n",
       "    </tr>\n",
       "    <tr>\n",
       "      <th>std</th>\n",
       "      <td>1.966113e+05</td>\n",
       "      <td>1130.398941</td>\n",
       "      <td>1198.660073</td>\n",
       "      <td>94.247581</td>\n",
       "      <td>8.598919</td>\n",
       "      <td>28.459551</td>\n",
       "    </tr>\n",
       "    <tr>\n",
       "      <th>min</th>\n",
       "      <td>6.530470e+05</td>\n",
       "      <td>0.000000</td>\n",
       "      <td>25.000000</td>\n",
       "      <td>9.000000</td>\n",
       "      <td>1.000000</td>\n",
       "      <td>0.000000</td>\n",
       "    </tr>\n",
       "    <tr>\n",
       "      <th>25%</th>\n",
       "      <td>8.230720e+05</td>\n",
       "      <td>250.000000</td>\n",
       "      <td>275.000000</td>\n",
       "      <td>126.000000</td>\n",
       "      <td>8.000000</td>\n",
       "      <td>7.000000</td>\n",
       "    </tr>\n",
       "    <tr>\n",
       "      <th>50%</th>\n",
       "      <td>9.927800e+05</td>\n",
       "      <td>450.000000</td>\n",
       "      <td>500.000000</td>\n",
       "      <td>145.000000</td>\n",
       "      <td>13.000000</td>\n",
       "      <td>13.000000</td>\n",
       "    </tr>\n",
       "    <tr>\n",
       "      <th>75%</th>\n",
       "      <td>1.163653e+06</td>\n",
       "      <td>900.000000</td>\n",
       "      <td>1000.000000</td>\n",
       "      <td>204.000000</td>\n",
       "      <td>14.000000</td>\n",
       "      <td>24.000000</td>\n",
       "    </tr>\n",
       "    <tr>\n",
       "      <th>max</th>\n",
       "      <td>1.340339e+06</td>\n",
       "      <td>100000.000000</td>\n",
       "      <td>100000.000000</td>\n",
       "      <td>536.000000</td>\n",
       "      <td>158.000000</td>\n",
       "      <td>2986.000000</td>\n",
       "    </tr>\n",
       "  </tbody>\n",
       "</table>\n",
       "</div>"
      ],
      "text/plain": [
       "                 id  funded_amount    loan_amount     partner_id  \\\n",
       "count  6.712050e+05  671205.000000  671205.000000  657698.000000   \n",
       "mean   9.932486e+05     785.995061     842.397107     178.199616   \n",
       "std    1.966113e+05    1130.398941    1198.660073      94.247581   \n",
       "min    6.530470e+05       0.000000      25.000000       9.000000   \n",
       "25%    8.230720e+05     250.000000     275.000000     126.000000   \n",
       "50%    9.927800e+05     450.000000     500.000000     145.000000   \n",
       "75%    1.163653e+06     900.000000    1000.000000     204.000000   \n",
       "max    1.340339e+06  100000.000000  100000.000000     536.000000   \n",
       "\n",
       "       term_in_months   lender_count  \n",
       "count   671205.000000  671205.000000  \n",
       "mean        13.739022      20.590922  \n",
       "std          8.598919      28.459551  \n",
       "min          1.000000       0.000000  \n",
       "25%          8.000000       7.000000  \n",
       "50%         13.000000      13.000000  \n",
       "75%         14.000000      24.000000  \n",
       "max        158.000000    2986.000000  "
      ]
     },
     "execution_count": 4,
     "metadata": {},
     "output_type": "execute_result"
    }
   ],
   "source": [
    "kiva.describe()"
   ]
  },
  {
   "cell_type": "code",
   "execution_count": 5,
   "metadata": {},
   "outputs": [
    {
     "name": "stdout",
     "output_type": "stream",
     "text": [
      "<class 'pandas.core.frame.DataFrame'>\n",
      "RangeIndex: 984 entries, 0 to 983\n",
      "Data columns (total 8 columns):\n",
      "ISO country code                     984 non-null object\n",
      "Country                              984 non-null object\n",
      "Sub-national region                  984 non-null object\n",
      "World region                         984 non-null object\n",
      "MPI National                         984 non-null float64\n",
      "MPI Regional                         984 non-null float64\n",
      "Headcount Ratio Regional             984 non-null float64\n",
      "Intensity of deprivation Regional    983 non-null float64\n",
      "dtypes: float64(4), object(4)\n",
      "memory usage: 61.6+ KB\n"
     ]
    }
   ],
   "source": [
    "mpi.info()"
   ]
  },
  {
   "cell_type": "code",
   "execution_count": 6,
   "metadata": {
    "collapsed": true
   },
   "outputs": [],
   "source": [
    "mpi.rename(columns = {'Sub-national region':'region'}, inplace = True)"
   ]
  },
  {
   "cell_type": "code",
   "execution_count": 7,
   "metadata": {
    "collapsed": true
   },
   "outputs": [],
   "source": [
    "combo = pd.merge(kiva,mpi)"
   ]
  },
  {
   "cell_type": "code",
   "execution_count": 8,
   "metadata": {},
   "outputs": [
    {
     "name": "stdout",
     "output_type": "stream",
     "text": [
      "<class 'pandas.core.frame.DataFrame'>\n",
      "Int64Index: 60158 entries, 0 to 60157\n",
      "Data columns (total 27 columns):\n",
      "id                                   60158 non-null int64\n",
      "funded_amount                        60158 non-null float64\n",
      "loan_amount                          60158 non-null float64\n",
      "activity                             60158 non-null object\n",
      "sector                               60158 non-null object\n",
      "use                                  60157 non-null object\n",
      "country_code                         60158 non-null object\n",
      "country                              60158 non-null object\n",
      "region                               60158 non-null object\n",
      "currency                             60158 non-null object\n",
      "partner_id                           60158 non-null float64\n",
      "posted_time                          60158 non-null object\n",
      "disbursed_time                       60158 non-null object\n",
      "funded_time                          55350 non-null object\n",
      "term_in_months                       60158 non-null float64\n",
      "lender_count                         60158 non-null int64\n",
      "tags                                 46454 non-null object\n",
      "borrower_genders                     60158 non-null object\n",
      "repayment_interval                   60158 non-null object\n",
      "date                                 60158 non-null object\n",
      "ISO country code                     60158 non-null object\n",
      "Country                              60158 non-null object\n",
      "World region                         60158 non-null object\n",
      "MPI National                         60158 non-null float64\n",
      "MPI Regional                         60158 non-null float64\n",
      "Headcount Ratio Regional             60158 non-null float64\n",
      "Intensity of deprivation Regional    60155 non-null float64\n",
      "dtypes: float64(8), int64(2), object(17)\n",
      "memory usage: 12.9+ MB\n"
     ]
    }
   ],
   "source": [
    "combo.info()"
   ]
  },
  {
   "cell_type": "code",
   "execution_count": 9,
   "metadata": {
    "collapsed": true
   },
   "outputs": [],
   "source": [
    "#combo.to_csv(\"combo.csv\", sep=',')"
   ]
  },
  {
   "cell_type": "code",
   "execution_count": 10,
   "metadata": {
    "collapsed": true
   },
   "outputs": [],
   "source": [
    "corr_matrix = combo.corr()"
   ]
  },
  {
   "cell_type": "code",
   "execution_count": 11,
   "metadata": {},
   "outputs": [
    {
     "data": {
      "text/plain": [
       "MPI Regional                         1.000000\n",
       "Headcount Ratio Regional             0.988552\n",
       "Intensity of deprivation Regional    0.920503\n",
       "MPI National                         0.803208\n",
       "partner_id                           0.373586\n",
       "id                                   0.077235\n",
       "term_in_months                       0.048235\n",
       "lender_count                        -0.169813\n",
       "funded_amount                       -0.194878\n",
       "loan_amount                         -0.197346\n",
       "Name: MPI Regional, dtype: float64"
      ]
     },
     "execution_count": 11,
     "metadata": {},
     "output_type": "execute_result"
    }
   ],
   "source": [
    "corr_matrix[\"MPI Regional\"].sort_values(ascending=False)"
   ]
  },
  {
   "cell_type": "code",
   "execution_count": 12,
   "metadata": {},
   "outputs": [
    {
     "data": {
      "text/plain": [
       "False"
      ]
     },
     "execution_count": 12,
     "metadata": {},
     "output_type": "execute_result"
    }
   ],
   "source": [
    "combo[\"funded_amount\"].equals(combo[\"loan_amount\"]) #change one of them to int and try again!!!"
   ]
  },
  {
   "cell_type": "code",
   "execution_count": 13,
   "metadata": {
    "collapsed": true
   },
   "outputs": [],
   "source": [
    "combo = combo.drop([\"date\", \"posted_time\", \"disbursed_time\", \"term_in_months\", \"use\", \"country_code\", \"partner_id\", \"funded_time\",\n",
    "            \"currency\", \"lender_count\", \"tags\", \"date\", \"ISO country code\", \"Country\", \"id\",\"Intensity of deprivation Regional\" ], axis = 1)"
   ]
  },
  {
   "cell_type": "code",
   "execution_count": 14,
   "metadata": {
    "collapsed": true
   },
   "outputs": [],
   "source": [
    "data = pd.get_dummies(combo, columns = [\"activity\", \"sector\", \"country\", \"region\", \"borrower_genders\", \"repayment_interval\", \"World region\"])"
   ]
  },
  {
   "cell_type": "code",
   "execution_count": 15,
   "metadata": {},
   "outputs": [
    {
     "name": "stdout",
     "output_type": "stream",
     "text": [
      "<class 'pandas.core.frame.DataFrame'>\n",
      "Int64Index: 60158 entries, 0 to 60157\n",
      "Columns: 1281 entries, funded_amount to World region_Sub-Saharan Africa\n",
      "dtypes: float64(5), uint8(1276)\n",
      "memory usage: 76.0 MB\n"
     ]
    }
   ],
   "source": [
    "data.info()# what is uint8?"
   ]
  },
  {
   "cell_type": "code",
   "execution_count": 16,
   "metadata": {},
   "outputs": [
    {
     "data": {
      "text/html": [
       "<div>\n",
       "<style>\n",
       "    .dataframe thead tr:only-child th {\n",
       "        text-align: right;\n",
       "    }\n",
       "\n",
       "    .dataframe thead th {\n",
       "        text-align: left;\n",
       "    }\n",
       "\n",
       "    .dataframe tbody tr th {\n",
       "        vertical-align: top;\n",
       "    }\n",
       "</style>\n",
       "<table border=\"1\" class=\"dataframe\">\n",
       "  <thead>\n",
       "    <tr style=\"text-align: right;\">\n",
       "      <th></th>\n",
       "      <th>funded_amount</th>\n",
       "      <th>loan_amount</th>\n",
       "      <th>MPI National</th>\n",
       "      <th>MPI Regional</th>\n",
       "      <th>Headcount Ratio Regional</th>\n",
       "      <th>activity_Agriculture</th>\n",
       "      <th>activity_Air Conditioning</th>\n",
       "      <th>activity_Animal Sales</th>\n",
       "      <th>activity_Aquaculture</th>\n",
       "      <th>activity_Arts</th>\n",
       "      <th>...</th>\n",
       "      <th>borrower_genders_male, male, male, male, male, male, male, male, male, male, male</th>\n",
       "      <th>repayment_interval_bullet</th>\n",
       "      <th>repayment_interval_irregular</th>\n",
       "      <th>repayment_interval_monthly</th>\n",
       "      <th>World region_Arab States</th>\n",
       "      <th>World region_East Asia and the Pacific</th>\n",
       "      <th>World region_Europe and Central Asia</th>\n",
       "      <th>World region_Latin America and Caribbean</th>\n",
       "      <th>World region_South Asia</th>\n",
       "      <th>World region_Sub-Saharan Africa</th>\n",
       "    </tr>\n",
       "  </thead>\n",
       "  <tbody>\n",
       "    <tr>\n",
       "      <th>count</th>\n",
       "      <td>60158.000000</td>\n",
       "      <td>60158.000000</td>\n",
       "      <td>60158.000000</td>\n",
       "      <td>60158.000000</td>\n",
       "      <td>60158.000000</td>\n",
       "      <td>60158.000000</td>\n",
       "      <td>60158.000000</td>\n",
       "      <td>60158.000000</td>\n",
       "      <td>60158.000000</td>\n",
       "      <td>60158.000000</td>\n",
       "      <td>...</td>\n",
       "      <td>60158.000000</td>\n",
       "      <td>60158.000000</td>\n",
       "      <td>60158.000000</td>\n",
       "      <td>60158.000000</td>\n",
       "      <td>60158.000000</td>\n",
       "      <td>60158.000000</td>\n",
       "      <td>60158.000000</td>\n",
       "      <td>60158.000000</td>\n",
       "      <td>60158.000000</td>\n",
       "      <td>60158.000000</td>\n",
       "    </tr>\n",
       "    <tr>\n",
       "      <th>mean</th>\n",
       "      <td>827.266531</td>\n",
       "      <td>880.164733</td>\n",
       "      <td>0.150316</td>\n",
       "      <td>0.128607</td>\n",
       "      <td>26.471330</td>\n",
       "      <td>0.033661</td>\n",
       "      <td>0.000033</td>\n",
       "      <td>0.005585</td>\n",
       "      <td>0.000050</td>\n",
       "      <td>0.001313</td>\n",
       "      <td>...</td>\n",
       "      <td>0.000017</td>\n",
       "      <td>0.219971</td>\n",
       "      <td>0.157585</td>\n",
       "      <td>0.622444</td>\n",
       "      <td>0.012251</td>\n",
       "      <td>0.205908</td>\n",
       "      <td>0.023272</td>\n",
       "      <td>0.489262</td>\n",
       "      <td>0.000399</td>\n",
       "      <td>0.268909</td>\n",
       "    </tr>\n",
       "    <tr>\n",
       "      <th>std</th>\n",
       "      <td>1316.200651</td>\n",
       "      <td>1376.570210</td>\n",
       "      <td>0.114735</td>\n",
       "      <td>0.117477</td>\n",
       "      <td>20.568533</td>\n",
       "      <td>0.180357</td>\n",
       "      <td>0.005766</td>\n",
       "      <td>0.074526</td>\n",
       "      <td>0.007062</td>\n",
       "      <td>0.036215</td>\n",
       "      <td>...</td>\n",
       "      <td>0.004077</td>\n",
       "      <td>0.414230</td>\n",
       "      <td>0.364354</td>\n",
       "      <td>0.484780</td>\n",
       "      <td>0.110005</td>\n",
       "      <td>0.404367</td>\n",
       "      <td>0.150768</td>\n",
       "      <td>0.499889</td>\n",
       "      <td>0.019970</td>\n",
       "      <td>0.443396</td>\n",
       "    </tr>\n",
       "    <tr>\n",
       "      <th>min</th>\n",
       "      <td>0.000000</td>\n",
       "      <td>25.000000</td>\n",
       "      <td>0.006000</td>\n",
       "      <td>0.000000</td>\n",
       "      <td>0.000000</td>\n",
       "      <td>0.000000</td>\n",
       "      <td>0.000000</td>\n",
       "      <td>0.000000</td>\n",
       "      <td>0.000000</td>\n",
       "      <td>0.000000</td>\n",
       "      <td>...</td>\n",
       "      <td>0.000000</td>\n",
       "      <td>0.000000</td>\n",
       "      <td>0.000000</td>\n",
       "      <td>0.000000</td>\n",
       "      <td>0.000000</td>\n",
       "      <td>0.000000</td>\n",
       "      <td>0.000000</td>\n",
       "      <td>0.000000</td>\n",
       "      <td>0.000000</td>\n",
       "      <td>0.000000</td>\n",
       "    </tr>\n",
       "    <tr>\n",
       "      <th>25%</th>\n",
       "      <td>200.000000</td>\n",
       "      <td>200.000000</td>\n",
       "      <td>0.072000</td>\n",
       "      <td>0.030000</td>\n",
       "      <td>7.300000</td>\n",
       "      <td>0.000000</td>\n",
       "      <td>0.000000</td>\n",
       "      <td>0.000000</td>\n",
       "      <td>0.000000</td>\n",
       "      <td>0.000000</td>\n",
       "      <td>...</td>\n",
       "      <td>0.000000</td>\n",
       "      <td>0.000000</td>\n",
       "      <td>0.000000</td>\n",
       "      <td>0.000000</td>\n",
       "      <td>0.000000</td>\n",
       "      <td>0.000000</td>\n",
       "      <td>0.000000</td>\n",
       "      <td>0.000000</td>\n",
       "      <td>0.000000</td>\n",
       "      <td>0.000000</td>\n",
       "    </tr>\n",
       "    <tr>\n",
       "      <th>50%</th>\n",
       "      <td>525.000000</td>\n",
       "      <td>600.000000</td>\n",
       "      <td>0.113000</td>\n",
       "      <td>0.090000</td>\n",
       "      <td>20.900000</td>\n",
       "      <td>0.000000</td>\n",
       "      <td>0.000000</td>\n",
       "      <td>0.000000</td>\n",
       "      <td>0.000000</td>\n",
       "      <td>0.000000</td>\n",
       "      <td>...</td>\n",
       "      <td>0.000000</td>\n",
       "      <td>0.000000</td>\n",
       "      <td>0.000000</td>\n",
       "      <td>1.000000</td>\n",
       "      <td>0.000000</td>\n",
       "      <td>0.000000</td>\n",
       "      <td>0.000000</td>\n",
       "      <td>0.000000</td>\n",
       "      <td>0.000000</td>\n",
       "      <td>0.000000</td>\n",
       "    </tr>\n",
       "    <tr>\n",
       "      <th>75%</th>\n",
       "      <td>1000.000000</td>\n",
       "      <td>1043.750000</td>\n",
       "      <td>0.251000</td>\n",
       "      <td>0.183000</td>\n",
       "      <td>42.500000</td>\n",
       "      <td>0.000000</td>\n",
       "      <td>0.000000</td>\n",
       "      <td>0.000000</td>\n",
       "      <td>0.000000</td>\n",
       "      <td>0.000000</td>\n",
       "      <td>...</td>\n",
       "      <td>0.000000</td>\n",
       "      <td>0.000000</td>\n",
       "      <td>0.000000</td>\n",
       "      <td>1.000000</td>\n",
       "      <td>0.000000</td>\n",
       "      <td>0.000000</td>\n",
       "      <td>0.000000</td>\n",
       "      <td>1.000000</td>\n",
       "      <td>0.000000</td>\n",
       "      <td>1.000000</td>\n",
       "    </tr>\n",
       "    <tr>\n",
       "      <th>max</th>\n",
       "      <td>50000.000000</td>\n",
       "      <td>50000.000000</td>\n",
       "      <td>0.552000</td>\n",
       "      <td>0.744000</td>\n",
       "      <td>98.100000</td>\n",
       "      <td>1.000000</td>\n",
       "      <td>1.000000</td>\n",
       "      <td>1.000000</td>\n",
       "      <td>1.000000</td>\n",
       "      <td>1.000000</td>\n",
       "      <td>...</td>\n",
       "      <td>1.000000</td>\n",
       "      <td>1.000000</td>\n",
       "      <td>1.000000</td>\n",
       "      <td>1.000000</td>\n",
       "      <td>1.000000</td>\n",
       "      <td>1.000000</td>\n",
       "      <td>1.000000</td>\n",
       "      <td>1.000000</td>\n",
       "      <td>1.000000</td>\n",
       "      <td>1.000000</td>\n",
       "    </tr>\n",
       "  </tbody>\n",
       "</table>\n",
       "<p>8 rows × 1281 columns</p>\n",
       "</div>"
      ],
      "text/plain": [
       "       funded_amount   loan_amount  MPI National  MPI Regional  \\\n",
       "count   60158.000000  60158.000000  60158.000000  60158.000000   \n",
       "mean      827.266531    880.164733      0.150316      0.128607   \n",
       "std      1316.200651   1376.570210      0.114735      0.117477   \n",
       "min         0.000000     25.000000      0.006000      0.000000   \n",
       "25%       200.000000    200.000000      0.072000      0.030000   \n",
       "50%       525.000000    600.000000      0.113000      0.090000   \n",
       "75%      1000.000000   1043.750000      0.251000      0.183000   \n",
       "max     50000.000000  50000.000000      0.552000      0.744000   \n",
       "\n",
       "       Headcount Ratio Regional  activity_Agriculture  \\\n",
       "count              60158.000000          60158.000000   \n",
       "mean                  26.471330              0.033661   \n",
       "std                   20.568533              0.180357   \n",
       "min                    0.000000              0.000000   \n",
       "25%                    7.300000              0.000000   \n",
       "50%                   20.900000              0.000000   \n",
       "75%                   42.500000              0.000000   \n",
       "max                   98.100000              1.000000   \n",
       "\n",
       "       activity_Air Conditioning  activity_Animal Sales  activity_Aquaculture  \\\n",
       "count               60158.000000           60158.000000          60158.000000   \n",
       "mean                    0.000033               0.005585              0.000050   \n",
       "std                     0.005766               0.074526              0.007062   \n",
       "min                     0.000000               0.000000              0.000000   \n",
       "25%                     0.000000               0.000000              0.000000   \n",
       "50%                     0.000000               0.000000              0.000000   \n",
       "75%                     0.000000               0.000000              0.000000   \n",
       "max                     1.000000               1.000000              1.000000   \n",
       "\n",
       "       activity_Arts               ...                 \\\n",
       "count   60158.000000               ...                  \n",
       "mean        0.001313               ...                  \n",
       "std         0.036215               ...                  \n",
       "min         0.000000               ...                  \n",
       "25%         0.000000               ...                  \n",
       "50%         0.000000               ...                  \n",
       "75%         0.000000               ...                  \n",
       "max         1.000000               ...                  \n",
       "\n",
       "       borrower_genders_male, male, male, male, male, male, male, male, male, male, male  \\\n",
       "count                                       60158.000000                                   \n",
       "mean                                            0.000017                                   \n",
       "std                                             0.004077                                   \n",
       "min                                             0.000000                                   \n",
       "25%                                             0.000000                                   \n",
       "50%                                             0.000000                                   \n",
       "75%                                             0.000000                                   \n",
       "max                                             1.000000                                   \n",
       "\n",
       "       repayment_interval_bullet  repayment_interval_irregular  \\\n",
       "count               60158.000000                  60158.000000   \n",
       "mean                    0.219971                      0.157585   \n",
       "std                     0.414230                      0.364354   \n",
       "min                     0.000000                      0.000000   \n",
       "25%                     0.000000                      0.000000   \n",
       "50%                     0.000000                      0.000000   \n",
       "75%                     0.000000                      0.000000   \n",
       "max                     1.000000                      1.000000   \n",
       "\n",
       "       repayment_interval_monthly  World region_Arab States  \\\n",
       "count                60158.000000              60158.000000   \n",
       "mean                     0.622444                  0.012251   \n",
       "std                      0.484780                  0.110005   \n",
       "min                      0.000000                  0.000000   \n",
       "25%                      0.000000                  0.000000   \n",
       "50%                      1.000000                  0.000000   \n",
       "75%                      1.000000                  0.000000   \n",
       "max                      1.000000                  1.000000   \n",
       "\n",
       "       World region_East Asia and the Pacific  \\\n",
       "count                            60158.000000   \n",
       "mean                                 0.205908   \n",
       "std                                  0.404367   \n",
       "min                                  0.000000   \n",
       "25%                                  0.000000   \n",
       "50%                                  0.000000   \n",
       "75%                                  0.000000   \n",
       "max                                  1.000000   \n",
       "\n",
       "       World region_Europe and Central Asia  \\\n",
       "count                          60158.000000   \n",
       "mean                               0.023272   \n",
       "std                                0.150768   \n",
       "min                                0.000000   \n",
       "25%                                0.000000   \n",
       "50%                                0.000000   \n",
       "75%                                0.000000   \n",
       "max                                1.000000   \n",
       "\n",
       "       World region_Latin America and Caribbean  World region_South Asia  \\\n",
       "count                              60158.000000             60158.000000   \n",
       "mean                                   0.489262                 0.000399   \n",
       "std                                    0.499889                 0.019970   \n",
       "min                                    0.000000                 0.000000   \n",
       "25%                                    0.000000                 0.000000   \n",
       "50%                                    0.000000                 0.000000   \n",
       "75%                                    1.000000                 0.000000   \n",
       "max                                    1.000000                 1.000000   \n",
       "\n",
       "       World region_Sub-Saharan Africa  \n",
       "count                     60158.000000  \n",
       "mean                          0.268909  \n",
       "std                           0.443396  \n",
       "min                           0.000000  \n",
       "25%                           0.000000  \n",
       "50%                           0.000000  \n",
       "75%                           1.000000  \n",
       "max                           1.000000  \n",
       "\n",
       "[8 rows x 1281 columns]"
      ]
     },
     "execution_count": 16,
     "metadata": {},
     "output_type": "execute_result"
    }
   ],
   "source": [
    "data.describe()"
   ]
  },
  {
   "cell_type": "code",
   "execution_count": 17,
   "metadata": {
    "collapsed": true
   },
   "outputs": [],
   "source": [
    "data['funded_amount'] = data[\"funded_amount\"].astype(int)\n",
    "data['loan_amount'] = data['loan_amount'].astype(int)\n",
    "data['MPI National'] = data['MPI National'].astype(int)\n",
    "data['MPI Regional'] = data['MPI Regional'].astype(int)\n",
    "data['Headcount Ratio Regional'] = data['Headcount Ratio Regional'].astype(int)\n",
    "#data['Intensity of deprivation Regional'] = data['Intensity of deprivation Regional'].astype(int)"
   ]
  },
  {
   "cell_type": "code",
   "execution_count": 19,
   "metadata": {},
   "outputs": [
    {
     "name": "stdout",
     "output_type": "stream",
     "text": [
      "<class 'pandas.core.frame.DataFrame'>\n",
      "Int64Index: 60158 entries, 0 to 60157\n",
      "Columns: 1281 entries, funded_amount to World region_Sub-Saharan Africa\n",
      "dtypes: int32(5), uint8(1276)\n",
      "memory usage: 74.8 MB\n"
     ]
    }
   ],
   "source": [
    "data.info()"
   ]
  },
  {
   "cell_type": "code",
   "execution_count": 20,
   "metadata": {
    "collapsed": true
   },
   "outputs": [],
   "source": [
    "from sklearn.model_selection import train_test_split\n",
    "train_set, test_set = train_test_split(data, test_size=.6, random_state = 42)"
   ]
  },
  {
   "cell_type": "code",
   "execution_count": 21,
   "metadata": {
    "collapsed": true
   },
   "outputs": [],
   "source": [
    "train_x = train_set.drop(\"MPI Regional\", axis = 1)\n",
    "train_y = train_set[\"MPI Regional\"]"
   ]
  },
  {
   "cell_type": "code",
   "execution_count": 22,
   "metadata": {
    "collapsed": true
   },
   "outputs": [],
   "source": [
    "test_x = test_set.drop(\"MPI Regional\", axis = 1)\n",
    "test_y = test_set[\"MPI Regional\"]"
   ]
  },
  {
   "cell_type": "code",
   "execution_count": 23,
   "metadata": {
    "collapsed": true
   },
   "outputs": [],
   "source": [
    "#how do I do multiclass?"
   ]
  },
  {
   "cell_type": "code",
   "execution_count": 37,
   "metadata": {
    "collapsed": true
   },
   "outputs": [],
   "source": [
    "from sklearn.ensemble import RandomForestClassifier\n",
    "\n",
    "rnd_clf = RandomForestClassifier(n_estimators=500, max_leaf_nodes=16, n_jobs=-1)\n",
    "rnd_clf.fit(train_x,train_y)\n",
    "#y_pred_rf = rnd_clf.predict(test_x)"
   ]
  },
  {
   "cell_type": "code",
   "execution_count": 40,
   "metadata": {},
   "outputs": [
    {
     "name": "stdout",
     "output_type": "stream",
     "text": [
      "{'max_features': 2, 'n_estimators': 3}\n"
     ]
    }
   ],
   "source": [
    "from sklearn.model_selection import GridSearchCV\n",
    "param_grid = [\n",
    "{'n_estimators': [3, 10, 30], 'max_features': [2, 4, 6, 8]},\n",
    "{'bootstrap': [False], 'n_estimators': [3, 10], 'max_features': [2, 3, 4]},\n",
    "]\n",
    "forest_cla = RandomForestClassifier(random_state=42)\n",
    "grid_search = GridSearchCV(forest_cla, param_grid, cv=5,scoring='neg_mean_squared_error')\n",
    "grid_search.fit(train_x,train_y )\n",
    "print (grid_search.best_params_)"
   ]
  },
  {
   "cell_type": "code",
   "execution_count": 41,
   "metadata": {},
   "outputs": [
    {
     "data": {
      "text/plain": [
       "RandomForestClassifier(bootstrap=True, class_weight=None, criterion='gini',\n",
       "            max_depth=None, max_features=2, max_leaf_nodes=16,\n",
       "            min_impurity_decrease=0.0, min_impurity_split=None,\n",
       "            min_samples_leaf=1, min_samples_split=2,\n",
       "            min_weight_fraction_leaf=0.0, n_estimators=3, n_jobs=-1,\n",
       "            oob_score=False, random_state=None, verbose=0,\n",
       "            warm_start=False)"
      ]
     },
     "execution_count": 41,
     "metadata": {},
     "output_type": "execute_result"
    }
   ],
   "source": [
    "rnd_clf = RandomForestClassifier(n_estimators=3, max_features=2, max_leaf_nodes=16, n_jobs=-1)\n",
    "rnd_clf.fit(train_x,train_y)"
   ]
  },
  {
   "cell_type": "code",
   "execution_count": 42,
   "metadata": {
    "collapsed": true
   },
   "outputs": [],
   "source": [
    "from sklearn.model_selection import cross_val_predict\n",
    "y_train_pred = cross_val_predict(rnd_clf, train_x, train_y, cv=3)"
   ]
  },
  {
   "cell_type": "code",
   "execution_count": 34,
   "metadata": {
    "collapsed": true
   },
   "outputs": [],
   "source": [
    "from sklearn.metrics import precision_score, recall_score"
   ]
  },
  {
   "cell_type": "code",
   "execution_count": 43,
   "metadata": {},
   "outputs": [
    {
     "data": {
      "text/plain": [
       "0.0"
      ]
     },
     "execution_count": 43,
     "metadata": {},
     "output_type": "execute_result"
    }
   ],
   "source": [
    "precision_score(train_y, y_train_pred)"
   ]
  },
  {
   "cell_type": "code",
   "execution_count": 44,
   "metadata": {},
   "outputs": [
    {
     "data": {
      "text/plain": [
       "0.0"
      ]
     },
     "execution_count": 44,
     "metadata": {},
     "output_type": "execute_result"
    }
   ],
   "source": [
    "recall_score(train_y,y_train_pred)"
   ]
  },
  {
   "cell_type": "code",
   "execution_count": null,
   "metadata": {
    "collapsed": true
   },
   "outputs": [],
   "source": []
  }
 ],
 "metadata": {
  "kernelspec": {
   "display_name": "Python 3",
   "language": "python",
   "name": "python3"
  },
  "language_info": {
   "codemirror_mode": {
    "name": "ipython",
    "version": 3
   },
   "file_extension": ".py",
   "mimetype": "text/x-python",
   "name": "python",
   "nbconvert_exporter": "python",
   "pygments_lexer": "ipython3",
   "version": "3.6.3"
  }
 },
 "nbformat": 4,
 "nbformat_minor": 2
}
